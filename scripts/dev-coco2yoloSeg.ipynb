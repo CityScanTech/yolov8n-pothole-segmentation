{
  "cells": [
    {
      "attachments": {},
      "cell_type": "markdown",
      "metadata": {
        "id": "Cxi8K9mXwl5t"
      },
      "source": [
        "<a href=\"https://githubtocolab.com/pylabel-project/samples/blob/main/coco2yolosegmentation.ipynb\" target=\"_parent\"><img src=\"https://colab.research.google.com/assets/colab-badge.svg\" alt=\"Open In Colab\"/></a> \n",
        "\n",
        "# Convert Coco Segmentation Annotations to YOLO \n",
        "Yolo now supports segmentation. Use this notebook to try converting segmented annotations from Coco to Yolo format. "
      ]
    },
    {
      "cell_type": "code",
      "execution_count": 1,
      "metadata": {
        "id": "dUw_ThfoIf6g"
      },
      "outputs": [],
      "source": [
        "import logging\n",
        "logging.getLogger().setLevel(logging.CRITICAL)\n",
        "# !pip install pylabel > /dev/null"
      ]
    },
    {
      "cell_type": "code",
      "execution_count": 2,
      "metadata": {
        "id": "AYwWkeF4z1Sc"
      },
      "outputs": [],
      "source": [
        "from pylabel import importer"
      ]
    },
    {
      "attachments": {},
      "cell_type": "markdown",
      "metadata": {
        "id": "hNo97kYaIf6h"
      },
      "source": [
        "## Import coco annotations \n",
        "First we will import annotations from the coco dataset, which are in coco json format. "
      ]
    },
    {
      "cell_type": "code",
      "execution_count": 3,
      "metadata": {
        "id": "HnR_mb_aIf6h",
        "outputId": "2fedce27-b8cf-4bab-cb4e-0e872f53ff20"
      },
      "outputs": [],
      "source": [
        "import os \n",
        "import zipfile\n",
        "\n",
        "#Download sample  dataset \n",
        "# os.makedirs(\"data\", exist_ok=True)\n",
        "# !wget \"https://github.com/pylabel-project/pylabel/files/10416366/dataset.zip?raw=true\" -O data/dataset.zip\n",
        "# with zipfile.ZipFile(\"data/dataset.zip\", 'r') as zip_ref:\n",
        "#    zip_ref.extractall(\"data\")"
      ]
    },
    {
      "cell_type": "code",
      "execution_count": 4,
      "metadata": {
        "id": "S3SS3nZRIf6i",
        "outputId": "5a5397e9-e924-4bf2-dcbf-c71f570242c8"
      },
      "outputs": [
        {
          "data": {
            "text/html": [
              "<div>\n",
              "<style scoped>\n",
              "    .dataframe tbody tr th:only-of-type {\n",
              "        vertical-align: middle;\n",
              "    }\n",
              "\n",
              "    .dataframe tbody tr th {\n",
              "        vertical-align: top;\n",
              "    }\n",
              "\n",
              "    .dataframe thead th {\n",
              "        text-align: right;\n",
              "    }\n",
              "</style>\n",
              "<table border=\"1\" class=\"dataframe\">\n",
              "  <thead>\n",
              "    <tr style=\"text-align: right;\">\n",
              "      <th></th>\n",
              "      <th>img_folder</th>\n",
              "      <th>img_filename</th>\n",
              "      <th>img_path</th>\n",
              "      <th>img_id</th>\n",
              "      <th>img_width</th>\n",
              "      <th>img_height</th>\n",
              "      <th>img_depth</th>\n",
              "      <th>ann_segmented</th>\n",
              "      <th>ann_bbox_xmin</th>\n",
              "      <th>ann_bbox_ymin</th>\n",
              "      <th>...</th>\n",
              "      <th>ann_segmentation</th>\n",
              "      <th>ann_iscrowd</th>\n",
              "      <th>ann_pose</th>\n",
              "      <th>ann_truncated</th>\n",
              "      <th>ann_difficult</th>\n",
              "      <th>cat_id</th>\n",
              "      <th>cat_name</th>\n",
              "      <th>cat_supercategory</th>\n",
              "      <th>split</th>\n",
              "      <th>annotated</th>\n",
              "    </tr>\n",
              "    <tr>\n",
              "      <th>id</th>\n",
              "      <th></th>\n",
              "      <th></th>\n",
              "      <th></th>\n",
              "      <th></th>\n",
              "      <th></th>\n",
              "      <th></th>\n",
              "      <th></th>\n",
              "      <th></th>\n",
              "      <th></th>\n",
              "      <th></th>\n",
              "      <th></th>\n",
              "      <th></th>\n",
              "      <th></th>\n",
              "      <th></th>\n",
              "      <th></th>\n",
              "      <th></th>\n",
              "      <th></th>\n",
              "      <th></th>\n",
              "      <th></th>\n",
              "      <th></th>\n",
              "      <th></th>\n",
              "    </tr>\n",
              "  </thead>\n",
              "  <tbody>\n",
              "    <tr>\n",
              "      <th>0</th>\n",
              "      <td>C:\\Users\\dongd\\Desktop\\pothole_datasets\\qipei-...</td>\n",
              "      <td>test09-873.png</td>\n",
              "      <td></td>\n",
              "      <td>117</td>\n",
              "      <td>1920</td>\n",
              "      <td>1080</td>\n",
              "      <td></td>\n",
              "      <td></td>\n",
              "      <td>615.0</td>\n",
              "      <td>629.0</td>\n",
              "      <td>...</td>\n",
              "      <td>[[615, 632, 635, 631, 660, 639, 673, 644, 685,...</td>\n",
              "      <td>0.0</td>\n",
              "      <td></td>\n",
              "      <td></td>\n",
              "      <td></td>\n",
              "      <td>1</td>\n",
              "      <td>Pothole</td>\n",
              "      <td>Pothole</td>\n",
              "      <td></td>\n",
              "      <td>1</td>\n",
              "    </tr>\n",
              "    <tr>\n",
              "      <th>1</th>\n",
              "      <td>C:\\Users\\dongd\\Desktop\\pothole_datasets\\qipei-...</td>\n",
              "      <td>test09-891.png</td>\n",
              "      <td></td>\n",
              "      <td>444</td>\n",
              "      <td>1920</td>\n",
              "      <td>1080</td>\n",
              "      <td></td>\n",
              "      <td></td>\n",
              "      <td>867.0</td>\n",
              "      <td>407.0</td>\n",
              "      <td>...</td>\n",
              "      <td>[[919, 407, 911, 410, 904, 451, 894, 467, 892,...</td>\n",
              "      <td>0.0</td>\n",
              "      <td></td>\n",
              "      <td></td>\n",
              "      <td></td>\n",
              "      <td>1</td>\n",
              "      <td>Pothole</td>\n",
              "      <td>Pothole</td>\n",
              "      <td></td>\n",
              "      <td>1</td>\n",
              "    </tr>\n",
              "    <tr>\n",
              "      <th>2</th>\n",
              "      <td>C:\\Users\\dongd\\Desktop\\pothole_datasets\\qipei-...</td>\n",
              "      <td>test09-908.png</td>\n",
              "      <td></td>\n",
              "      <td>370</td>\n",
              "      <td>1920</td>\n",
              "      <td>1080</td>\n",
              "      <td></td>\n",
              "      <td></td>\n",
              "      <td>841.0</td>\n",
              "      <td>645.0</td>\n",
              "      <td>...</td>\n",
              "      <td>[[938, 665, 841, 690, 841, 728, 963, 770, 1052...</td>\n",
              "      <td>0.0</td>\n",
              "      <td></td>\n",
              "      <td></td>\n",
              "      <td></td>\n",
              "      <td>1</td>\n",
              "      <td>Pothole</td>\n",
              "      <td>Pothole</td>\n",
              "      <td></td>\n",
              "      <td>1</td>\n",
              "    </tr>\n",
              "    <tr>\n",
              "      <th>3</th>\n",
              "      <td>C:\\Users\\dongd\\Desktop\\pothole_datasets\\qipei-...</td>\n",
              "      <td>test09-911.png</td>\n",
              "      <td></td>\n",
              "      <td>84</td>\n",
              "      <td>1920</td>\n",
              "      <td>1080</td>\n",
              "      <td></td>\n",
              "      <td></td>\n",
              "      <td>942.0</td>\n",
              "      <td>688.0</td>\n",
              "      <td>...</td>\n",
              "      <td>[[966, 723, 948, 734, 947, 754, 942, 772, 946,...</td>\n",
              "      <td>0.0</td>\n",
              "      <td></td>\n",
              "      <td></td>\n",
              "      <td></td>\n",
              "      <td>1</td>\n",
              "      <td>Pothole</td>\n",
              "      <td>Pothole</td>\n",
              "      <td></td>\n",
              "      <td>1</td>\n",
              "    </tr>\n",
              "    <tr>\n",
              "      <th>4</th>\n",
              "      <td>C:\\Users\\dongd\\Desktop\\pothole_datasets\\qipei-...</td>\n",
              "      <td>test09-1817.png</td>\n",
              "      <td></td>\n",
              "      <td>289</td>\n",
              "      <td>1920</td>\n",
              "      <td>1080</td>\n",
              "      <td></td>\n",
              "      <td></td>\n",
              "      <td>755.0</td>\n",
              "      <td>395.0</td>\n",
              "      <td>...</td>\n",
              "      <td>[[768, 401, 755, 427, 765, 437, 853, 460, 863,...</td>\n",
              "      <td>0.0</td>\n",
              "      <td></td>\n",
              "      <td></td>\n",
              "      <td></td>\n",
              "      <td>1</td>\n",
              "      <td>Pothole</td>\n",
              "      <td>Pothole</td>\n",
              "      <td></td>\n",
              "      <td>1</td>\n",
              "    </tr>\n",
              "  </tbody>\n",
              "</table>\n",
              "<p>5 rows × 25 columns</p>\n",
              "</div>"
            ],
            "text/plain": [
              "                                           img_folder     img_filename   \n",
              "id                                                                       \n",
              "0   C:\\Users\\dongd\\Desktop\\pothole_datasets\\qipei-...   test09-873.png  \\\n",
              "1   C:\\Users\\dongd\\Desktop\\pothole_datasets\\qipei-...   test09-891.png   \n",
              "2   C:\\Users\\dongd\\Desktop\\pothole_datasets\\qipei-...   test09-908.png   \n",
              "3   C:\\Users\\dongd\\Desktop\\pothole_datasets\\qipei-...   test09-911.png   \n",
              "4   C:\\Users\\dongd\\Desktop\\pothole_datasets\\qipei-...  test09-1817.png   \n",
              "\n",
              "   img_path  img_id  img_width  img_height img_depth ann_segmented   \n",
              "id                                                                   \n",
              "0               117       1920        1080                          \\\n",
              "1               444       1920        1080                           \n",
              "2               370       1920        1080                           \n",
              "3                84       1920        1080                           \n",
              "4               289       1920        1080                           \n",
              "\n",
              "   ann_bbox_xmin ann_bbox_ymin  ...   \n",
              "id                              ...   \n",
              "0          615.0         629.0  ...  \\\n",
              "1          867.0         407.0  ...   \n",
              "2          841.0         645.0  ...   \n",
              "3          942.0         688.0  ...   \n",
              "4          755.0         395.0  ...   \n",
              "\n",
              "                                     ann_segmentation ann_iscrowd ann_pose   \n",
              "id                                                                           \n",
              "0   [[615, 632, 635, 631, 660, 639, 673, 644, 685,...         0.0           \\\n",
              "1   [[919, 407, 911, 410, 904, 451, 894, 467, 892,...         0.0            \n",
              "2   [[938, 665, 841, 690, 841, 728, 963, 770, 1052...         0.0            \n",
              "3   [[966, 723, 948, 734, 947, 754, 942, 772, 946,...         0.0            \n",
              "4   [[768, 401, 755, 427, 765, 437, 853, 460, 863,...         0.0            \n",
              "\n",
              "   ann_truncated ann_difficult cat_id cat_name cat_supercategory split   \n",
              "id                                                                       \n",
              "0                                   1  Pothole           Pothole        \\\n",
              "1                                   1  Pothole           Pothole         \n",
              "2                                   1  Pothole           Pothole         \n",
              "3                                   1  Pothole           Pothole         \n",
              "4                                   1  Pothole           Pothole         \n",
              "\n",
              "   annotated  \n",
              "id            \n",
              "0          1  \n",
              "1          1  \n",
              "2          1  \n",
              "3          1  \n",
              "4          1  \n",
              "\n",
              "[5 rows x 25 columns]"
            ]
          },
          "execution_count": 4,
          "metadata": {},
          "output_type": "execute_result"
        }
      ],
      "source": [
        "#Specify path to the coco.json file\n",
        "path_to_annotations = r\"C:\\Users\\dongd\\Desktop\\pothole_datasets\\qipei-pothole\\pothole_fixed_train.json\"\n",
        "#Specify the path to the images (if they are in a different folder than the annotations)\n",
        "path_to_images = r\"C:\\Users\\dongd\\Desktop\\pothole_datasets\\qipei-pothole\\images\"\n",
        "\n",
        "#Import the dataset into the pylable schema \n",
        "dataset = importer.ImportCoco(path_to_annotations, path_to_images=path_to_images, name=\"Segmentation\")\n",
        "dataset.df.head(5)"
      ]
    },
    {
      "attachments": {},
      "cell_type": "markdown",
      "metadata": {
        "id": "tNEoYO7HIf6i"
      },
      "source": [
        "# Export to Yolo v5 with Segmenttation \n",
        "The PyLabel exporter will export all of the annotations in the dataframe to the desired target format.\n",
        "Yolo creates one text file for each image in the dataset. Set segmentation=True to export segmentation annotations. "
      ]
    },
    {
      "cell_type": "code",
      "execution_count": 22,
      "metadata": {
        "id": "Wi6ezZovIf6j",
        "outputId": "eb074c3f-e9c9-4edf-d190-00fde376ab65"
      },
      "outputs": [
        {
          "name": "stderr",
          "output_type": "stream",
          "text": [
            "Exporting YOLO files...: 100%|██████████| 2980/2980 [00:27<00:00, 109.19it/s]\n"
          ]
        },
        {
          "data": {
            "text/plain": [
              "'C:\\\\Users\\\\dongd\\\\Desktop\\\\cityscan-roadeye-yolov8-for-pothole\\\\RoadVis Segmentation.v2i.coco-segmentation\\\\train\\\\img_1837_jpg.rf.000b1c41dd8d42039b271ca0290f4f8b.txt'"
            ]
          },
          "execution_count": 22,
          "metadata": {},
          "output_type": "execute_result"
        }
      ],
      "source": [
        "# convert train\n",
        "dataset.path_to_yolov8 = r\"C:\\Users\\dongd\\Desktop\\pothole_datasets\\qipei-pothole\\yolo\"\n",
        "dataset.export.ExportToYoloV5(output_path=dataset.path_to_annotations, segmentation=True)[1]"
      ]
    },
    {
      "cell_type": "code",
      "execution_count": 24,
      "metadata": {},
      "outputs": [
        {
          "name": "stderr",
          "output_type": "stream",
          "text": [
            "Exporting YOLO files...: 100%|██████████| 97/97 [00:00<00:00, 100.77it/s]\n"
          ]
        },
        {
          "data": {
            "text/plain": [
              "'C:\\\\Users\\\\dongd\\\\Desktop\\\\cityscan-roadeye-yolov8-for-pothole\\\\RoadVis Segmentation.v2i.coco-segmentation\\\\valid\\\\img_0036_jpg.rf.00594fe06ca8d43a7faf38625125bc86.txt'"
            ]
          },
          "execution_count": 24,
          "metadata": {},
          "output_type": "execute_result"
        }
      ],
      "source": [
        "# convert val\n",
        "\n",
        "#Specify path to the coco.json file\n",
        "path_to_annotations = r\"C:\\Users\\dongd\\Desktop\\cityscan-roadeye-yolov8-for-pothole\\RoadVis Segmentation.v2i.coco-segmentation\\valid\\_annotations.coco.json\"\n",
        "#Specify the path to the images (if they are in a different folder than the annotations)\n",
        "path_to_images = r\"C:\\Users\\dongd\\Desktop\\cityscan-roadeye-yolov8-for-pothole\\RoadVis Segmentation.v2i.coco-segmentation\\valid\"\n",
        "#Import the dataset into the pylable schema \n",
        "dataset = importer.ImportCoco(path_to_annotations, path_to_images=path_to_images, name=\"Segmentation\")\n",
        "dataset.path_to_yolov8 = r\"C:\\Users\\dongd\\Desktop\\cityscan-roadeye-yolov8-for-pothole\\RoadVis Segmentation.v2i.coco-segmentation\\valid\"\n",
        "dataset.export.ExportToYoloV5(output_path=dataset.path_to_annotations, segmentation=True)[1]"
      ]
    },
    {
      "cell_type": "code",
      "execution_count": 25,
      "metadata": {},
      "outputs": [
        {
          "name": "stderr",
          "output_type": "stream",
          "text": [
            "Exporting YOLO files...: 100%|██████████| 96/96 [00:00<00:00, 104.84it/s]\n"
          ]
        },
        {
          "data": {
            "text/plain": [
              "'C:\\\\Users\\\\dongd\\\\Desktop\\\\cityscan-roadeye-yolov8-for-pothole\\\\RoadVis Segmentation.v2i.coco-segmentation\\\\test\\\\img_1177_jpg.rf.05b327e382a51d0c096b4d14751c7d4b.txt'"
            ]
          },
          "execution_count": 25,
          "metadata": {},
          "output_type": "execute_result"
        }
      ],
      "source": [
        "# convert test\n",
        "\n",
        "#Specify path to the coco.json file\n",
        "path_to_annotations = r\"C:\\Users\\dongd\\Desktop\\cityscan-roadeye-yolov8-for-pothole\\RoadVis Segmentation.v2i.coco-segmentation\\test\\_annotations.coco.json\"\n",
        "#Specify the path to the images (if they are in a different folder than the annotations)\n",
        "path_to_images = r\"C:\\Users\\dongd\\Desktop\\cityscan-roadeye-yolov8-for-pothole\\RoadVis Segmentation.v2i.coco-segmentation\\test\"\n",
        "#Import the dataset into the pylable schema \n",
        "dataset = importer.ImportCoco(path_to_annotations, path_to_images=path_to_images, name=\"Segmentation\")\n",
        "dataset.path_to_yolov8 = r\"C:C:\\Users\\dongd\\Desktop\\cityscan-roadeye-yolov8-for-pothole\\RoadVis Segmentation.v2i.coco-segmentation\\test\"\n",
        "dataset.export.ExportToYoloV5(output_path=dataset.path_to_annotations, segmentation=True)[1]"
      ]
    },
    {
      "cell_type": "code",
      "execution_count": 26,
      "metadata": {
        "id": "1PwFw5y6If6j",
        "outputId": "4fd27f19-726c-4b15-8f99-c36f9b27559c"
      },
      "outputs": [
        {
          "name": "stderr",
          "output_type": "stream",
          "text": [
            "'cat' is not recognized as an internal or external command,\n",
            "operable program or batch file.\n"
          ]
        }
      ],
      "source": [
        "#View a sample of the segmentation annotations\n",
        "!cat 'training/labels/IMG20221222121516.txt'"
      ]
    }
  ],
  "metadata": {
    "colab": {
      "name": "import2.ipynb",
      "provenance": []
    },
    "kernelspec": {
      "display_name": "Python 3.8.5 ('my-new-project')",
      "language": "python",
      "name": "python3"
    },
    "language_info": {
      "codemirror_mode": {
        "name": "ipython",
        "version": 3
      },
      "file_extension": ".py",
      "mimetype": "text/x-python",
      "name": "python",
      "nbconvert_exporter": "python",
      "pygments_lexer": "ipython3",
      "version": "3.8.16"
    },
    "vscode": {
      "interpreter": {
        "hash": "b9d2b2088005b129b6cb174ba487de37c3e3acf6fca20d7f1b3d5131adeb2740"
      }
    }
  },
  "nbformat": 4,
  "nbformat_minor": 0
}
